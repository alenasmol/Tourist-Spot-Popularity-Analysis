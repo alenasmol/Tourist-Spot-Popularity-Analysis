import pandas as pd
import seaborn as sns
import matplotlib.pyplot as plt

# Загрузка данных
popularity = pd.read_csv('../data/processed/processed_popularity.csv')
places = pd.read_csv('../data/processed/processed_tourist_places.csv')

# Объединение данных
merged = pd.merge(popularity, places, left_on='place_id', right_on='id')

# Топ-5 популярных мест
top_places = merged.groupby('name')['visitors'].sum().sort_values(ascending=False).head(5)

# Визуализация
sns.barplot(x=top_places.values, y=top_places.index, palette='viridis')
plt.title('Топ-5 туристических мест по посещаемости')
plt.xlabel('Количество посетителей')
plt.ylabel('Место')
plt.show()

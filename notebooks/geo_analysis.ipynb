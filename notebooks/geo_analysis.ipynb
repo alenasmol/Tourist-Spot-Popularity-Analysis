import geopandas as gpd
from shapely.wkt import loads
import folium

# Загрузка данных
places = pd.read_csv('../data/processed/processed_tourist_places.csv')
places['geometry'] = places['geom'].apply(loads)
gdf_places = gpd.GeoDataFrame(places, geometry='geometry', crs="EPSG:4326")

# Построение карты
map_center = [48.8566, 2.3522]  # Париж
m = folium.Map(location=map_center, zoom_start=12)

for _, row in gdf_places.iterrows():
    folium.Marker(
        location=[row.geometry.y, row.geometry.x],
        popup=row['name']
    ).add_to(m)

# Сохранение карты
m.save('../visualizations/map.html')

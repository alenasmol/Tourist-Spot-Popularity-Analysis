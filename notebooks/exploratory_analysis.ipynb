import pandas as pd
import matplotlib.pyplot as plt

# Загрузка данных
popularity = pd.read_csv('../data/processed/processed_popularity.csv')

# Тренды посещаемости по времени
popularity['visit_date'] = pd.to_datetime(popularity['visit_date'])
monthly_visitors = popularity.groupby(popularity['visit_date'].dt.to_period('M'))['visitors'].sum()

# Визуализация
monthly_visitors.plot(kind='line', title='Посещаемость по месяцам');
plt.ylabel('Количество посетителей')
plt.xlabel('Месяц')
plt.show()

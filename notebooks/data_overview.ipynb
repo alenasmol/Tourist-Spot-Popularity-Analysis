import pandas as pd

# Загрузка данных
places = pd.read_csv('../data/processed/processed_tourist_places.csv')
popularity = pd.read_csv('../data/processed/processed_popularity.csv')

# Обзор данных
print(places.info())
print(popularity.describe())

# Проверка на дубликаты
print("Дубликаты в местах:", places.duplicated().sum())

# Распределение категорий мест
places['category'].value_counts().plot(kind='bar', title='Категории туристических мест');
